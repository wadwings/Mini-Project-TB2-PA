{
 "cells": [
  {
   "cell_type": "code",
   "execution_count": 2,
   "metadata": {
    "collapsed": true
   },
   "outputs": [],
   "source": [
    "import sys\n",
    "sys.path.append('../distance_compute')\n"
   ]
  },
  {
   "cell_type": "code",
   "execution_count": 6,
   "outputs": [
    {
     "name": "stdout",
     "output_type": "stream",
     "text": [
      "fetching data stage\n",
      "                cdr3_a_aa       v_a_gene   j_a_gene  count\n",
      "0          AQGLLTGGGNKLTF  TRAV29/DV5*01  TRAJ10*01      1\n",
      "1          ASMFSGGGNEKFTF    TRAV12-2*01  TRAJ48*01      1\n",
      "2          ASMYKGGGNEKFTF    TRAV26-2*01  TRAJ45*01      1\n",
      "3          CAAAASGGSYIPTF     TRAV1-2*01   TRAJ6*01      1\n",
      "4         CAAAATPGNTGKLIF    TRAV12-2*01  TRAJ37*01      1\n",
      "...                   ...            ...        ...    ...\n",
      "25364         WGDRKTRNSYF      TRAV27*01  TRAJ42*01      1\n",
      "25365            WGGNKLVF       TRAV6*01  TRAJ47*01      1\n",
      "25366           WGTGNQFYF      TRAV39*01  TRAJ49*01      1\n",
      "25367  YFLSSGARVTGGGNKITF     TRAV9-2*01  TRAJ10*01      1\n",
      "25368           YGSTDKLIF      TRAV39*01  TRAJ34*01      1\n",
      "\n",
      "[25369 rows x 4 columns]\n"
     ]
    }
   ],
   "source": [
    "from setup import config\n",
    "config.setConfig(config.speciesType.human, config.chainType.alpha)\n",
    "print(config.getColumns())"
   ],
   "metadata": {
    "collapsed": false
   }
  }
 ],
 "metadata": {
  "kernelspec": {
   "display_name": "Python 3",
   "language": "python",
   "name": "python3"
  },
  "language_info": {
   "codemirror_mode": {
    "name": "ipython",
    "version": 2
   },
   "file_extension": ".py",
   "mimetype": "text/x-python",
   "name": "python",
   "nbconvert_exporter": "python",
   "pygments_lexer": "ipython2",
   "version": "2.7.6"
  }
 },
 "nbformat": 4,
 "nbformat_minor": 0
}
