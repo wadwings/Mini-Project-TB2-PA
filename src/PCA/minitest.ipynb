{
 "cells": [
  {
   "cell_type": "code",
   "execution_count": 48,
   "id": "cb77a39e",
   "metadata": {},
   "outputs": [
    {
     "data": {
      "text/plain": [
       "'\\ndf = pd.read_table(\"/Users/liuqianyi/Downloads/vdjdb-2022-03-30/vdjdb.tsv\")\\ndf1 = df.drop(columns= [\\'vdjdb.score\\',\\'web.method\\',\\'web.method.seq\\',\\'web.cdr3fix.nc\\',\\'web.cdr3fix.unmp\\',\\'antigen.epitope\\',\\'species\\',\\'complex.id\\'])\\nprint(df1.dtypes)\\ndf1\\n\\ndf.head()\\n'"
      ]
     },
     "execution_count": 48,
     "metadata": {},
     "output_type": "execute_result"
    }
   ],
   "source": [
    "import pandas as pd\n",
    "\n",
    "'''\n",
    "df = pd.read_table(\"/Users/liuqianyi/Downloads/vdjdb-2022-03-30/vdjdb.tsv\")\n",
    "df1 = df.drop(columns= ['vdjdb.score','web.method','web.method.seq','web.cdr3fix.nc','web.cdr3fix.unmp','antigen.epitope','species','complex.id'])\n",
    "print(df1.dtypes)\n",
    "df1\n",
    "\n",
    "df.head()\n",
    "'''"
   ]
  },
  {
   "cell_type": "code",
   "execution_count": 49,
   "id": "79233b5e",
   "metadata": {},
   "outputs": [],
   "source": [
    "#from sklearn.decomposition import PCA\n",
    "#pca = PCA(n_components=2)\n",
    "#pca.fit(df1)\n",
    "# This should equal the sum of the first two values in the cumulative proportion plot\n",
    "#print('Explained variance ratio '+ str(pca.explained_variance_ratio_))\n",
    "\n",
    "# Project data onto first two principal components\n",
    "#projX = pca.transform(df1)\n",
    "#plt.figure(4)\n",
    "#plt.plot(projX[:,0], projX[:,1], 'k.')\n",
    "#plt.title('Projected data')\n",
    "#plt.show()"
   ]
  },
  {
   "cell_type": "code",
   "execution_count": 50,
   "id": "72e6575a",
   "metadata": {},
   "outputs": [
    {
     "data": {
      "text/plain": [
       "'\\nimport pandas as pd\\nfrom tcrdist.repertoire import TCRrep\\n\\ndf = pd.read_csv(\"https://raw.githubusercontent.com/kmayerb/tcrdist2/API2/tcrdist/test_files_compact/dash.csv\")\\ntr = TCRrep(cell_df = df, \\n            organism = \\'mouse\\', \\n            chains = [\\'alpha\\',\\'beta\\'], \\n            db_file = \\'alphabeta_gammadelta_db.tsv\\')\\n\\ntr.pw_alpha\\ntr.pw_beta\\ntr.pw_cdr3_a_aa\\ntr.pw_cdr3_b_aa\\n'"
      ]
     },
     "execution_count": 50,
     "metadata": {},
     "output_type": "execute_result"
    }
   ],
   "source": [
    "'''\n",
    "import pandas as pd\n",
    "from tcrdist.repertoire import TCRrep\n",
    "\n",
    "df = pd.read_csv(\"https://raw.githubusercontent.com/kmayerb/tcrdist2/API2/tcrdist/test_files_compact/dash.csv\")\n",
    "tr = TCRrep(cell_df = df, \n",
    "            organism = 'mouse', \n",
    "            chains = ['alpha','beta'], \n",
    "            db_file = 'alphabeta_gammadelta_db.tsv')\n",
    "\n",
    "tr.pw_alpha\n",
    "tr.pw_beta\n",
    "tr.pw_cdr3_a_aa\n",
    "tr.pw_cdr3_b_aa\n",
    "'''"
   ]
  },
  {
   "cell_type": "code",
   "execution_count": 51,
   "id": "7f619ee9",
   "metadata": {},
   "outputs": [
    {
     "data": {
      "text/plain": [
       "\"\\n# Define the encoding function\\ndef one_hot_encoding(hla, hla_dict=None):\\n    if hla_dict is None:\\n        hla_dict = {'CIVRAPGRADMRF': 0, 'HLA-A*01:02': 1, 'HLA-A*01:03': 2,\\n                    'HLA-B*01:01': 3, 'HLA-B*01:02': 4, 'HLA-B*01:03': 5,\\n                    'HLA-C*01:01': 6, 'HLA-C*01:02': 7, 'HLA-C*01:03': 8,\\n                    'HLA-DQA1*01:01': 9, 'HLA-DQA1*01:02': 10, 'HLA-DQA1*01:03': 11}\\n    n_classes = len(hla_dict)\\n    one_hot = np.zeros(n_classes)\\n    one_hot[hla_dict[hla]] = 1\\n    return one_hot\\n\\n# Apply the encoding function to the 'HLA' column of the dataframe\\ndf['encoded_HLA'] = df['HLA'].apply(lambda x: one_hot_encoding(x))\\nprint(df)\\nThis will replace the missing values in the 'HLA' column with the mode of the column, and then apply the one-hot encoding function to the 'HLA' column, adding the encoded values to a new column 'encoded_HLA'.\\n\\n\\n\""
      ]
     },
     "execution_count": 51,
     "metadata": {},
     "output_type": "execute_result"
    }
   ],
   "source": [
    "from sklearn.preprocessing import LabelEncoder\n",
    "from sklearn.decomposition import PCA\n",
    "\n",
    "'''\n",
    "(0)筛查NA的数据\n",
    "\n",
    "要将编码函数应用于pandas数据帧中缺失(NA)值的列，可以在编码之前使用fillna方法将缺失值替换为合适的值，例如平均值或众数。\n",
    "\n",
    "下面是如何将编码函数应用到pandas数据框架中缺失值的列的示例:\n",
    "\n",
    "这将用列的模式替换'HLA'列中缺失的值，然后对'HLA'列应用one-hot编码函数，将编码的值添加到新列'encoded_HLA'中。\n",
    "# Define a sample dataframe with missing values\n",
    "df = pd.DataFrame({'HLA': ['HLA-A*01:01', 'HLA-B*01:02', 'HLA-C*01:03', np.nan]})\n",
    "\n",
    "# Replace the missing values with the mode\n",
    "df['HLA'].fillna(df['HLA'].mode()[0], inplace=True)\n",
    "'''\n",
    "\n",
    "'''\n",
    "# Define the encoding function\n",
    "def one_hot_encoding(hla, hla_dict=None):\n",
    "    if hla_dict is None:\n",
    "        hla_dict = {'CIVRAPGRADMRF': 0, 'HLA-A*01:02': 1, 'HLA-A*01:03': 2,\n",
    "                    'HLA-B*01:01': 3, 'HLA-B*01:02': 4, 'HLA-B*01:03': 5,\n",
    "                    'HLA-C*01:01': 6, 'HLA-C*01:02': 7, 'HLA-C*01:03': 8,\n",
    "                    'HLA-DQA1*01:01': 9, 'HLA-DQA1*01:02': 10, 'HLA-DQA1*01:03': 11}\n",
    "    n_classes = len(hla_dict)\n",
    "    one_hot = np.zeros(n_classes)\n",
    "    one_hot[hla_dict[hla]] = 1\n",
    "    return one_hot\n",
    "\n",
    "# Apply the encoding function to the 'HLA' column of the dataframe\n",
    "df['encoded_HLA'] = df['HLA'].apply(lambda x: one_hot_encoding(x))\n",
    "print(df)\n",
    "This will replace the missing values in the 'HLA' column with the mode of the column, and then apply the one-hot encoding function to the 'HLA' column, adding the encoded values to a new column 'encoded_HLA'.\n",
    "\n",
    "\n",
    "'''"
   ]
  },
  {
   "cell_type": "code",
   "execution_count": 52,
   "id": "33727c9c",
   "metadata": {},
   "outputs": [
    {
     "data": {
      "text/plain": [
       "'\\n(2) Change String value to numeric value\\n'"
      ]
     },
     "execution_count": 52,
     "metadata": {},
     "output_type": "execute_result"
    }
   ],
   "source": [
    "'''\n",
    "(1)\n",
    "'''\n",
    "# Load the data \n",
    "df_TRS_only = pd.read_table(\"/Users/liuqianyi/Downloads/TRA-Pair-Only.tsv\")\n",
    "\n",
    "'''\n",
    "(2) Change String value to numeric value\n",
    "'''\n"
   ]
  },
  {
   "cell_type": "code",
   "execution_count": 53,
   "id": "733fa12f",
   "metadata": {},
   "outputs": [],
   "source": [
    "#complex.id 打算删除"
   ]
  },
  {
   "cell_type": "code",
   "execution_count": 54,
   "id": "d7b00d12",
   "metadata": {},
   "outputs": [],
   "source": [
    "#Gene\n",
    "\n",
    "# Encode the string test data using LabelEncoder\n",
    "le = LabelEncoder()\n",
    "#LabelEncoder是一个预处理工具，用于将分类变量(字符串)编码为数值。\n",
    "# Encode the string data using LabelEncoder\n",
    "df_TRS_only[[\"Gene\"]]= df_TRS_only[[\"Gene\"]].apply(lambda col: le.fit_transform(col))"
   ]
  },
  {
   "cell_type": "code",
   "execution_count": 190,
   "id": "40cbce9c",
   "metadata": {},
   "outputs": [
    {
     "data": {
      "text/plain": [
       "\"\\n\\n#对CDR3进行编码\\ndef CDR3_encoding(sequence, aa_dict=None):\\n    if aa_dict is None:\\n        aa_dict = {'A': 1, 'C': 2, 'D': 3, 'E': 4, 'F': 5, 'G': 6,\\n                   'H': 7, 'I': 8, 'K': 9, 'L': 10, 'M': 11, 'N': 12,\\n                   'P': 13, 'Q': 14, 'R': 15, 'S': 16, 'T': 17, 'V': 18,\\n                   'W': 19, 'Y': 20}\\n    return [aa_dict[aa] for aa in sequence]\\n\\n#总数\\ndf_TRS_only['CDR3'] = df_TRS_only['CDR3'].apply(lambda x: CDR3_encoding(x))\\n\\n#组合数\\n#df_TRS_only['CDR3'] = df_TRS_only['CDR3'].apply(lambda x: CDR3_encoding(x))\\n\\n#检查对应总数是否存在重复的情况\\n\""
      ]
     },
     "execution_count": 190,
     "metadata": {},
     "output_type": "execute_result"
    }
   ],
   "source": [
    "# CDR3\n",
    "import re\n",
    "from collections import Counter\n",
    "\n",
    "#查看frame的列中是否包含有A-Z字母的字符串的数据，并且统计A-Z每个字母分别出现的个数并且进行打印\n",
    "df_TRS_only['CDR3'] = df_TRS_only['CDR3'].astype(str)\n",
    "char_counts_CDR3 = {}\n",
    "\n",
    "for elem in df_TRS_only['CDR3']:\n",
    "    for char in elem:\n",
    "        if char not in char_counts_CDR3:\n",
    "            char_counts_CDR3[char] = 0\n",
    "        char_counts_CDR3[char] = char_counts_CDR3[char]\n",
    "'''\n",
    "\n",
    "#对CDR3进行编码\n",
    "def CDR3_encoding(sequence, aa_dict=None):\n",
    "    if aa_dict is None:\n",
    "        aa_dict = {'A': 1, 'C': 2, 'D': 3, 'E': 4, 'F': 5, 'G': 6,\n",
    "                   'H': 7, 'I': 8, 'K': 9, 'L': 10, 'M': 11, 'N': 12,\n",
    "                   'P': 13, 'Q': 14, 'R': 15, 'S': 16, 'T': 17, 'V': 18,\n",
    "                   'W': 19, 'Y': 20}\n",
    "    return [aa_dict[aa] for aa in sequence]\n",
    "\n",
    "#总数\n",
    "df_TRS_only['CDR3'] = df_TRS_only['CDR3'].apply(lambda x: CDR3_encoding(x))\n",
    "\n",
    "#组合数\n",
    "#df_TRS_only['CDR3'] = df_TRS_only['CDR3'].apply(lambda x: CDR3_encoding(x))\n",
    "\n",
    "#检查对应总数是否存在重复的情况\n",
    "'''"
   ]
  },
  {
   "cell_type": "code",
   "execution_count": 182,
   "id": "c611f6ea",
   "metadata": {},
   "outputs": [
    {
     "name": "stdout",
     "output_type": "stream",
     "text": [
      "       Gene  CDR3   V   J  Species  MHC A  MHC B  MHC class Epitope  \\\n",
      "0         0   113  17   4        0     28     13          0      25   \n",
      "1         0   145  12   6        0     28     13          0      25   \n",
      "2         0   149  17   9        0     28     13          0      25   \n",
      "3         0   113  17   4        0     28     13          0      28   \n",
      "4         0   145  12   6        0     28     13          0      28   \n",
      "...     ...   ...  ..  ..      ...    ...    ...        ...     ...   \n",
      "55635     1   120   5  10        0     44     13          0     109   \n",
      "55636     1   162   7   4        0     44     13          0     109   \n",
      "55637     1   130   6  10        0     44     13          0     109   \n",
      "55638     1   203  17   3        0     44     13          0     109   \n",
      "55639     1   169  19   4        0     44     13          0     109   \n",
      "\n",
      "       Epitope gene  Epitope species  \n",
      "0                36                9  \n",
      "1                36                9  \n",
      "2                36                9  \n",
      "3                36                9  \n",
      "4                36                9  \n",
      "...             ...              ...  \n",
      "55635            98               26  \n",
      "55636            98               26  \n",
      "55637            98               26  \n",
      "55638            98               26  \n",
      "55639            98               26  \n",
      "\n",
      "[55640 rows x 11 columns]\n"
     ]
    }
   ],
   "source": [
    "#V\n",
    "#查找V所有的种类，根据种类进行以下操作,\n",
    "#查看frame列中除数字以外所有其他字符种类，并且计算这些字符出现的次数\n",
    "'''\n",
    "df_TRS_only['V'] = df_TRS_only['V'].astype(str)\n",
    "non_numeric_chars = [char for elem in df_TRS_only['V'] for char in elem if not char.isnumeric()]\n",
    "char_counts = Counter(non_numeric_chars)\n",
    "print(char_counts)\n",
    "'''\n",
    "\n",
    "df_TRS_only['V'] = df_TRS_only['V'].astype(str)\n",
    "char_counts_V = {}\n",
    "\n",
    "for elem in df_TRS_only['V']:\n",
    "    for char in elem:\n",
    "        if char not in char_counts_V:\n",
    "            char_counts_V[char] = 0\n",
    "        char_counts_V[char] += 1\n",
    "\n",
    "'''\n",
    "{'T': 55631, 'R': 55631, 'A': 27820, 'V': 59428, '2': 27007, '6': 6524, '-': 31307, '1': 90086, '*': 55631, '0': 59370, '3': 12869, '8': 6036, '/': 3797, 'D': 4385, '7': 7666, '5': 7089, '4': 9089, '9': 10855, 'N': 883, 'B': 27811, 'n': 18, 'a': 9}\n",
    "'''\n",
    "\n",
    "\n",
    "def V_encoding(sequence, aa_dict=None):\n",
    "    if aa_dict is None:\n",
    "        aa_dict = {'0': 1, '1': 2, '2': 3, '3': 4, '4': 5, '5': 6, '6': 7, '7': 8,\n",
    "                   '8': 9, '9': 10, 'T': 11, 'R': 12, 'A': 13, 'V': 14, '-': 15, '*': 16,\n",
    "                   '/':17, 'D': 18, 'N': 19, 'B': 20, 'n': 21, 'a': 22}                   \n",
    "    return [aa_dict[aa] for aa in sequence]\n",
    "    \n",
    "#总数\n",
    "df_TRS_only['V'] = df_TRS_only['V'].apply(lambda x: sum(V_encoding(x)))\n",
    "\n",
    "\n",
    "#检查对应总数是否存在重复的情况"
   ]
  },
  {
   "cell_type": "code",
   "execution_count": 180,
   "id": "fd5388e5",
   "metadata": {},
   "outputs": [
    {
     "name": "stdout",
     "output_type": "stream",
     "text": [
      "       Gene  CDR3    V   J  Species  MHC A  MHC B  MHC class Epitope  \\\n",
      "0         0   113   96   4        0     28     13          0      25   \n",
      "1         0   145   73   6        0     28     13          0      25   \n",
      "2         0   149  158   9        0     28     13          0      25   \n",
      "3         0   113   96   4        0     28     13          0      28   \n",
      "4         0   145   73   6        0     28     13          0      28   \n",
      "...     ...   ...  ...  ..      ...    ...    ...        ...     ...   \n",
      "55635     1   120  101  10        0     44     13          0     109   \n",
      "55636     1   162  103   4        0     44     13          0     109   \n",
      "55637     1   130  102  10        0     44     13          0     109   \n",
      "55638     1   203   87   3        0     44     13          0     109   \n",
      "55639     1   169   98   4        0     44     13          0     109   \n",
      "\n",
      "       Epitope gene  Epitope species  \n",
      "0                36                9  \n",
      "1                36                9  \n",
      "2                36                9  \n",
      "3                36                9  \n",
      "4                36                9  \n",
      "...             ...              ...  \n",
      "55635            98               26  \n",
      "55636            98               26  \n",
      "55637            98               26  \n",
      "55638            98               26  \n",
      "55639            98               26  \n",
      "\n",
      "[55640 rows x 11 columns]\n"
     ]
    }
   ],
   "source": [
    "#J\n",
    "#查找V所有的种类，根据种类进行以下操作,\n",
    "df_TRS_only['J'] = df_TRS_only['J'].astype(str)\n",
    "char_counts_J = {}\n",
    "\n",
    "for elem in df_TRS_only['J']:\n",
    "    for char in elem:\n",
    "        if char not in char_counts_J:\n",
    "            char_counts_J[char] = 0\n",
    "        char_counts_J[char] += 1\n",
    "\n",
    "'''\n",
    "{'T': 55564, 'R': 55564, 'A': 27820, 'J': 55564, '4': 10829, '3': 14154, '*': 55564, '0': 59210, '1': 78392, '2': 32935, '8': 1965, '5': 8821, '9': 2789, '7': 7210, '6': 3272, 'B': 27744, '-': 27744, 'n': 152, 'a': 76}\n",
    "'''\n",
    "\n",
    "def J_encoding(sequence, aa_dict=None):\n",
    "    if aa_dict is None:\n",
    "        aa_dict = {'0': 1, '1': 2, '2': 3, '3': 4, '4': 5, '5': 6, '6': 7, '7': 8, '8': 9, \n",
    "                   '9': 10, 'T': 11, 'R': 12, 'A': 13, 'J': 23 , '-': 15, '*': 16, 'B': 20, 'n': 21, 'a': 22}                   \n",
    "    return [aa_dict[aa] for aa in sequence]\n",
    "    \n",
    "#总数\n",
    "df_TRS_only['J'] = df_TRS_only['J'].apply(lambda x: sum(J_encoding(x)))\n",
    "print(df_TRS_only)"
   ]
  },
  {
   "cell_type": "code",
   "execution_count": 181,
   "id": "76ab156c",
   "metadata": {},
   "outputs": [],
   "source": [
    "#Species\n",
    "#使用LabelEncoder()对Species直接进行转换\n",
    "\n",
    "# Encode the string test data using LabelEncoder\n",
    "le = LabelEncoder()\n",
    "#LabelEncoder是一个预处理工具，用于将分类变量(字符串)编码为数值。\n",
    "# Encode the string data using LabelEncoder\n",
    "df_TRS_only[[\"Species\"]]= df_TRS_only[[\"Species\"]].apply(lambda col: le.fit_transform(col))"
   ]
  },
  {
   "cell_type": "code",
   "execution_count": 170,
   "id": "3459a47a",
   "metadata": {},
   "outputs": [],
   "source": [
    "#MHC A\n",
    "\n",
    "df_TRS_only['MHC A'] = df_TRS_only['MHC A'].astype(str)\n",
    "char_counts_MHC_A = {}\n",
    "\n",
    "for elem in df_TRS_only['MHC A']:\n",
    "    for char in elem:\n",
    "        if char not in char_counts_MHC_A:\n",
    "            char_counts_MHC_A[char] = 0\n",
    "        char_counts_MHC_A[char] += 1\n",
    "\n",
    "'''\n",
    "{'H': 55640, 'L': 51340, 'A': 98166, '-': 55640, 'B': 4468, '*': 51316, '0': 96028, '8': 3098, '2': 18362, 'D': 2352, 'Q': 112, '1': 60906, ':': 51206, 'R': 346, 'P': 48, '4': 930, 'K': 2404, 'b': 4250, '3': 27972, '9': 26, 'a': 36, '5': 680, 'E': 32, '7': 1422, '6': 216, 'd': 26, 'C': 28}\n",
    "'''\n",
    "\n",
    "def MHC_A_encoding(sequence, aa_dict=None):\n",
    "    if aa_dict is None:\n",
    "        aa_dict = {'H': 1, 'L': 2, 'A': 3, '-': 4, 'B': 5, '*': 6, '0': 7, \n",
    "                   '8': 8, '2': 9, 'D': 10, 'Q': 11, '1': 12, ':': 13, 'R': 14, 'P': 15, \n",
    "                   '4': 16, 'K': 17, 'b': 18, '3': 19, '9': 20, 'a': 21, '5': 22, 'E': 23, '7': 24, \n",
    "                   '6': 25, 'd': 26, 'C': 27}                   \n",
    "    return [aa_dict[aa] for aa in sequence]\n",
    "\n",
    "df_TRS_only['MHC A'] = df_TRS_only['MHC A'].apply(lambda x: sum(MHC_A_encoding(x)))\n"
   ]
  },
  {
   "cell_type": "code",
   "execution_count": 171,
   "id": "c2e29b2e",
   "metadata": {},
   "outputs": [],
   "source": [
    "#MHC B\n",
    "df_TRS_only['MHC B'] = df_TRS_only['MHC B'].astype(str)\n",
    "char_counts_MHC_B = {}\n",
    "\n",
    "for elem in df_TRS_only['MHC B']:\n",
    "    for char in elem:\n",
    "        if char not in char_counts_MHC_B:\n",
    "            char_counts_MHC_B[char] = 0\n",
    "        char_counts_MHC_B[char] += 1\n",
    "\n",
    "'''\n",
    "{'B': 55476, '2': 55242, 'M': 55084, 'H': 556, 'L': 506, 'A': 656, '-': 556, 'D': 506, 'Q': 90, '1': 1062, '*': 506, '0': 1042, '6': 24, ':': 588, 'R': 368, '5': 30, '3': 96, 'P': 48, '4': 174, 'a': 36, 'E': 14, 'b': 14, '8': 12, '9': 2, '7': 44}\n",
    "'''\n",
    "\n",
    "\n",
    "def MHC_B_encoding(sequence, aa_dict=None):\n",
    "    if aa_dict is None:\n",
    "        aa_dict = {'B': 1, '2': 2, 'M': 3, 'H': 4, 'L': 5, 'A': 6, '-': 7, 'D': 8, \n",
    "                   'Q': 9, '1': 10, '*': 11, '0': 12, '6': 13, ':': 14, 'R': 15, '5': 16, '3': 17, \n",
    "                   'P': 18, '4': 19, 'a': 20, 'E': 21, 'b': 22, '8': 23, '9': 24, '7': 25}                   \n",
    "    return [aa_dict[aa] for aa in sequence]\n",
    "\n",
    "df_TRS_only['MHC B'] = df_TRS_only['MHC B'].apply(lambda x: sum(MHC_B_encoding(x)))\n"
   ]
  },
  {
   "cell_type": "code",
   "execution_count": 172,
   "id": "709c086c",
   "metadata": {},
   "outputs": [],
   "source": [
    "#MHC class\n",
    "#使用LabelEncoder()对Species直接进行转换\n",
    "\n",
    "# Encode the string test data using LabelEncoder\n",
    "le = LabelEncoder()\n",
    "#LabelEncoder是一个预处理工具，用于将分类变量(字符串)编码为数值。\n",
    "# Encode the string data using LabelEncoder\n",
    "df_TRS_only[[\"MHC class\"]]= df_TRS_only[[\"MHC class\"]].apply(lambda col: le.fit_transform(col))"
   ]
  },
  {
   "cell_type": "code",
   "execution_count": 173,
   "id": "a88ef8f8",
   "metadata": {},
   "outputs": [
    {
     "data": {
      "text/plain": [
       "\"\\nfrom sklearn.preprocessing import MinMaxScaler\\n\\nprint(df_TRS_only['MHC A'].shape)\\nprint(df_TRS_only['MHC B'].shape)\\nprint(df_TRS_only['MHC class'].shape)\\n\\ncombined_MHC = np.concatenate([df_TRS_only['MHC A'].values.reshape(-1, 1),\\n                           df_TRS_only['MHC B'].values.reshape(-1, 1),\\n                           df_TRS_only['MHC class'].values.reshape(-1, 1)], axis=1)\\n\\n\\n# Normalize the data using MinMaxScaler\\nscaler = MinMaxScaler()\\ncombined_MHC_normalized = scaler.fit_transform(combined_MHC)\\nprint(combined_MHC_normalized)\\n# Replace the columns with the combined data\\n#df_TRS_only['combined_MHC'] = combined_MHC_normalized\\n\\n# Drop the original columns\\n#df_TRS_only = df_TRS_only.drop(['MHC A', 'MHC B', 'MHC class'], axis=1)\\n\\n\""
      ]
     },
     "execution_count": 173,
     "metadata": {},
     "output_type": "execute_result"
    }
   ],
   "source": [
    "#Combined MHC\n",
    "'''\n",
    "from sklearn.preprocessing import MinMaxScaler\n",
    "\n",
    "print(df_TRS_only['MHC A'].shape)\n",
    "print(df_TRS_only['MHC B'].shape)\n",
    "print(df_TRS_only['MHC class'].shape)\n",
    "\n",
    "combined_MHC = np.concatenate([df_TRS_only['MHC A'].values.reshape(-1, 1),\n",
    "                           df_TRS_only['MHC B'].values.reshape(-1, 1),\n",
    "                           df_TRS_only['MHC class'].values.reshape(-1, 1)], axis=1)\n",
    "\n",
    "\n",
    "# Normalize the data using MinMaxScaler\n",
    "scaler = MinMaxScaler()\n",
    "combined_MHC_normalized = scaler.fit_transform(combined_MHC)\n",
    "print(combined_MHC_normalized)\n",
    "# Replace the columns with the combined data\n",
    "#df_TRS_only['combined_MHC'] = combined_MHC_normalized\n",
    "\n",
    "# Drop the original columns\n",
    "#df_TRS_only = df_TRS_only.drop(['MHC A', 'MHC B', 'MHC class'], axis=1)\n",
    "\n",
    "'''"
   ]
  },
  {
   "cell_type": "code",
   "execution_count": 174,
   "id": "3700db20",
   "metadata": {},
   "outputs": [
    {
     "ename": "KeyError",
     "evalue": "'2'",
     "output_type": "error",
     "traceback": [
      "\u001b[0;31m---------------------------------------------------------------------------\u001b[0m",
      "\u001b[0;31mKeyError\u001b[0m                                  Traceback (most recent call last)",
      "\u001b[0;32m/var/folders/w2/bzpwnzzd1xq4bywkn49tjtjw0000gn/T/ipykernel_38863/2772811286.py\u001b[0m in \u001b[0;36m<module>\u001b[0;34m\u001b[0m\n\u001b[1;32m     21\u001b[0m     \u001b[0;32mreturn\u001b[0m \u001b[0;34m[\u001b[0m\u001b[0maa_dict\u001b[0m\u001b[0;34m[\u001b[0m\u001b[0maa\u001b[0m\u001b[0;34m]\u001b[0m \u001b[0;32mfor\u001b[0m \u001b[0maa\u001b[0m \u001b[0;32min\u001b[0m \u001b[0msequence\u001b[0m\u001b[0;34m]\u001b[0m\u001b[0;34m\u001b[0m\u001b[0;34m\u001b[0m\u001b[0m\n\u001b[1;32m     22\u001b[0m \u001b[0;34m\u001b[0m\u001b[0m\n\u001b[0;32m---> 23\u001b[0;31m \u001b[0mdf_TRS_only\u001b[0m\u001b[0;34m[\u001b[0m\u001b[0;34m'Epitope'\u001b[0m\u001b[0;34m]\u001b[0m \u001b[0;34m=\u001b[0m \u001b[0mdf_TRS_only\u001b[0m\u001b[0;34m[\u001b[0m\u001b[0;34m'Epitope'\u001b[0m\u001b[0;34m]\u001b[0m\u001b[0;34m.\u001b[0m\u001b[0mapply\u001b[0m\u001b[0;34m(\u001b[0m\u001b[0;32mlambda\u001b[0m \u001b[0mx\u001b[0m\u001b[0;34m:\u001b[0m \u001b[0msum\u001b[0m\u001b[0;34m(\u001b[0m\u001b[0mEpitope_encoding\u001b[0m\u001b[0;34m(\u001b[0m\u001b[0mx\u001b[0m\u001b[0;34m)\u001b[0m\u001b[0;34m)\u001b[0m\u001b[0;34m)\u001b[0m\u001b[0;34m\u001b[0m\u001b[0;34m\u001b[0m\u001b[0m\n\u001b[0m",
      "\u001b[0;32m~/opt/anaconda3/lib/python3.9/site-packages/pandas/core/series.py\u001b[0m in \u001b[0;36mapply\u001b[0;34m(self, func, convert_dtype, args, **kwargs)\u001b[0m\n\u001b[1;32m   4355\u001b[0m         \u001b[0mdtype\u001b[0m\u001b[0;34m:\u001b[0m \u001b[0mfloat64\u001b[0m\u001b[0;34m\u001b[0m\u001b[0;34m\u001b[0m\u001b[0m\n\u001b[1;32m   4356\u001b[0m         \"\"\"\n\u001b[0;32m-> 4357\u001b[0;31m         \u001b[0;32mreturn\u001b[0m \u001b[0mSeriesApply\u001b[0m\u001b[0;34m(\u001b[0m\u001b[0mself\u001b[0m\u001b[0;34m,\u001b[0m \u001b[0mfunc\u001b[0m\u001b[0;34m,\u001b[0m \u001b[0mconvert_dtype\u001b[0m\u001b[0;34m,\u001b[0m \u001b[0margs\u001b[0m\u001b[0;34m,\u001b[0m \u001b[0mkwargs\u001b[0m\u001b[0;34m)\u001b[0m\u001b[0;34m.\u001b[0m\u001b[0mapply\u001b[0m\u001b[0;34m(\u001b[0m\u001b[0;34m)\u001b[0m\u001b[0;34m\u001b[0m\u001b[0;34m\u001b[0m\u001b[0m\n\u001b[0m\u001b[1;32m   4358\u001b[0m \u001b[0;34m\u001b[0m\u001b[0m\n\u001b[1;32m   4359\u001b[0m     def _reduce(\n",
      "\u001b[0;32m~/opt/anaconda3/lib/python3.9/site-packages/pandas/core/apply.py\u001b[0m in \u001b[0;36mapply\u001b[0;34m(self)\u001b[0m\n\u001b[1;32m   1041\u001b[0m             \u001b[0;32mreturn\u001b[0m \u001b[0mself\u001b[0m\u001b[0;34m.\u001b[0m\u001b[0mapply_str\u001b[0m\u001b[0;34m(\u001b[0m\u001b[0;34m)\u001b[0m\u001b[0;34m\u001b[0m\u001b[0;34m\u001b[0m\u001b[0m\n\u001b[1;32m   1042\u001b[0m \u001b[0;34m\u001b[0m\u001b[0m\n\u001b[0;32m-> 1043\u001b[0;31m         \u001b[0;32mreturn\u001b[0m \u001b[0mself\u001b[0m\u001b[0;34m.\u001b[0m\u001b[0mapply_standard\u001b[0m\u001b[0;34m(\u001b[0m\u001b[0;34m)\u001b[0m\u001b[0;34m\u001b[0m\u001b[0;34m\u001b[0m\u001b[0m\n\u001b[0m\u001b[1;32m   1044\u001b[0m \u001b[0;34m\u001b[0m\u001b[0m\n\u001b[1;32m   1045\u001b[0m     \u001b[0;32mdef\u001b[0m \u001b[0magg\u001b[0m\u001b[0;34m(\u001b[0m\u001b[0mself\u001b[0m\u001b[0;34m)\u001b[0m\u001b[0;34m:\u001b[0m\u001b[0;34m\u001b[0m\u001b[0;34m\u001b[0m\u001b[0m\n",
      "\u001b[0;32m~/opt/anaconda3/lib/python3.9/site-packages/pandas/core/apply.py\u001b[0m in \u001b[0;36mapply_standard\u001b[0;34m(self)\u001b[0m\n\u001b[1;32m   1096\u001b[0m                 \u001b[0;31m# List[Union[Callable[..., Any], str]]]]]\"; expected\u001b[0m\u001b[0;34m\u001b[0m\u001b[0;34m\u001b[0m\u001b[0m\n\u001b[1;32m   1097\u001b[0m                 \u001b[0;31m# \"Callable[[Any], Any]\"\u001b[0m\u001b[0;34m\u001b[0m\u001b[0;34m\u001b[0m\u001b[0m\n\u001b[0;32m-> 1098\u001b[0;31m                 mapped = lib.map_infer(\n\u001b[0m\u001b[1;32m   1099\u001b[0m                     \u001b[0mvalues\u001b[0m\u001b[0;34m,\u001b[0m\u001b[0;34m\u001b[0m\u001b[0;34m\u001b[0m\u001b[0m\n\u001b[1;32m   1100\u001b[0m                     \u001b[0mf\u001b[0m\u001b[0;34m,\u001b[0m  \u001b[0;31m# type: ignore[arg-type]\u001b[0m\u001b[0;34m\u001b[0m\u001b[0;34m\u001b[0m\u001b[0m\n",
      "\u001b[0;32m~/opt/anaconda3/lib/python3.9/site-packages/pandas/_libs/lib.pyx\u001b[0m in \u001b[0;36mpandas._libs.lib.map_infer\u001b[0;34m()\u001b[0m\n",
      "\u001b[0;32m/var/folders/w2/bzpwnzzd1xq4bywkn49tjtjw0000gn/T/ipykernel_38863/2772811286.py\u001b[0m in \u001b[0;36m<lambda>\u001b[0;34m(x)\u001b[0m\n\u001b[1;32m     21\u001b[0m     \u001b[0;32mreturn\u001b[0m \u001b[0;34m[\u001b[0m\u001b[0maa_dict\u001b[0m\u001b[0;34m[\u001b[0m\u001b[0maa\u001b[0m\u001b[0;34m]\u001b[0m \u001b[0;32mfor\u001b[0m \u001b[0maa\u001b[0m \u001b[0;32min\u001b[0m \u001b[0msequence\u001b[0m\u001b[0;34m]\u001b[0m\u001b[0;34m\u001b[0m\u001b[0;34m\u001b[0m\u001b[0m\n\u001b[1;32m     22\u001b[0m \u001b[0;34m\u001b[0m\u001b[0m\n\u001b[0;32m---> 23\u001b[0;31m \u001b[0mdf_TRS_only\u001b[0m\u001b[0;34m[\u001b[0m\u001b[0;34m'Epitope'\u001b[0m\u001b[0;34m]\u001b[0m \u001b[0;34m=\u001b[0m \u001b[0mdf_TRS_only\u001b[0m\u001b[0;34m[\u001b[0m\u001b[0;34m'Epitope'\u001b[0m\u001b[0;34m]\u001b[0m\u001b[0;34m.\u001b[0m\u001b[0mapply\u001b[0m\u001b[0;34m(\u001b[0m\u001b[0;32mlambda\u001b[0m \u001b[0mx\u001b[0m\u001b[0;34m:\u001b[0m \u001b[0msum\u001b[0m\u001b[0;34m(\u001b[0m\u001b[0mEpitope_encoding\u001b[0m\u001b[0;34m(\u001b[0m\u001b[0mx\u001b[0m\u001b[0;34m)\u001b[0m\u001b[0;34m)\u001b[0m\u001b[0;34m)\u001b[0m\u001b[0;34m\u001b[0m\u001b[0;34m\u001b[0m\u001b[0m\n\u001b[0m",
      "\u001b[0;32m/var/folders/w2/bzpwnzzd1xq4bywkn49tjtjw0000gn/T/ipykernel_38863/2772811286.py\u001b[0m in \u001b[0;36mEpitope_encoding\u001b[0;34m(sequence, aa_dict)\u001b[0m\n\u001b[1;32m     19\u001b[0m                    \u001b[0;34m'M'\u001b[0m\u001b[0;34m:\u001b[0m \u001b[0;36m8\u001b[0m\u001b[0;34m,\u001b[0m \u001b[0;34m'A'\u001b[0m\u001b[0;34m:\u001b[0m \u001b[0;36m9\u001b[0m\u001b[0;34m,\u001b[0m \u001b[0;34m'I'\u001b[0m\u001b[0;34m:\u001b[0m \u001b[0;36m10\u001b[0m\u001b[0;34m,\u001b[0m \u001b[0;34m'V'\u001b[0m\u001b[0;34m:\u001b[0m \u001b[0;36m11\u001b[0m\u001b[0;34m,\u001b[0m \u001b[0;34m'Y'\u001b[0m\u001b[0;34m:\u001b[0m \u001b[0;36m12\u001b[0m\u001b[0;34m,\u001b[0m \u001b[0;34m'D'\u001b[0m\u001b[0;34m:\u001b[0m \u001b[0;36m13\u001b[0m\u001b[0;34m,\u001b[0m\u001b[0;34m\u001b[0m\u001b[0;34m\u001b[0m\u001b[0m\n\u001b[1;32m     20\u001b[0m                    'H': 14, 'R': 15, 'N': 16, 'S': 17, 'P': 18, 'W': 19, 'C': 20}                   \n\u001b[0;32m---> 21\u001b[0;31m     \u001b[0;32mreturn\u001b[0m \u001b[0;34m[\u001b[0m\u001b[0maa_dict\u001b[0m\u001b[0;34m[\u001b[0m\u001b[0maa\u001b[0m\u001b[0;34m]\u001b[0m \u001b[0;32mfor\u001b[0m \u001b[0maa\u001b[0m \u001b[0;32min\u001b[0m \u001b[0msequence\u001b[0m\u001b[0;34m]\u001b[0m\u001b[0;34m\u001b[0m\u001b[0;34m\u001b[0m\u001b[0m\n\u001b[0m\u001b[1;32m     22\u001b[0m \u001b[0;34m\u001b[0m\u001b[0m\n\u001b[1;32m     23\u001b[0m \u001b[0mdf_TRS_only\u001b[0m\u001b[0;34m[\u001b[0m\u001b[0;34m'Epitope'\u001b[0m\u001b[0;34m]\u001b[0m \u001b[0;34m=\u001b[0m \u001b[0mdf_TRS_only\u001b[0m\u001b[0;34m[\u001b[0m\u001b[0;34m'Epitope'\u001b[0m\u001b[0;34m]\u001b[0m\u001b[0;34m.\u001b[0m\u001b[0mapply\u001b[0m\u001b[0;34m(\u001b[0m\u001b[0;32mlambda\u001b[0m \u001b[0mx\u001b[0m\u001b[0;34m:\u001b[0m \u001b[0msum\u001b[0m\u001b[0;34m(\u001b[0m\u001b[0mEpitope_encoding\u001b[0m\u001b[0;34m(\u001b[0m\u001b[0mx\u001b[0m\u001b[0;34m)\u001b[0m\u001b[0;34m)\u001b[0m\u001b[0;34m)\u001b[0m\u001b[0;34m\u001b[0m\u001b[0;34m\u001b[0m\u001b[0m\n",
      "\u001b[0;32m/var/folders/w2/bzpwnzzd1xq4bywkn49tjtjw0000gn/T/ipykernel_38863/2772811286.py\u001b[0m in \u001b[0;36m<listcomp>\u001b[0;34m(.0)\u001b[0m\n\u001b[1;32m     19\u001b[0m                    \u001b[0;34m'M'\u001b[0m\u001b[0;34m:\u001b[0m \u001b[0;36m8\u001b[0m\u001b[0;34m,\u001b[0m \u001b[0;34m'A'\u001b[0m\u001b[0;34m:\u001b[0m \u001b[0;36m9\u001b[0m\u001b[0;34m,\u001b[0m \u001b[0;34m'I'\u001b[0m\u001b[0;34m:\u001b[0m \u001b[0;36m10\u001b[0m\u001b[0;34m,\u001b[0m \u001b[0;34m'V'\u001b[0m\u001b[0;34m:\u001b[0m \u001b[0;36m11\u001b[0m\u001b[0;34m,\u001b[0m \u001b[0;34m'Y'\u001b[0m\u001b[0;34m:\u001b[0m \u001b[0;36m12\u001b[0m\u001b[0;34m,\u001b[0m \u001b[0;34m'D'\u001b[0m\u001b[0;34m:\u001b[0m \u001b[0;36m13\u001b[0m\u001b[0;34m,\u001b[0m\u001b[0;34m\u001b[0m\u001b[0;34m\u001b[0m\u001b[0m\n\u001b[1;32m     20\u001b[0m                    'H': 14, 'R': 15, 'N': 16, 'S': 17, 'P': 18, 'W': 19, 'C': 20}                   \n\u001b[0;32m---> 21\u001b[0;31m     \u001b[0;32mreturn\u001b[0m \u001b[0;34m[\u001b[0m\u001b[0maa_dict\u001b[0m\u001b[0;34m[\u001b[0m\u001b[0maa\u001b[0m\u001b[0;34m]\u001b[0m \u001b[0;32mfor\u001b[0m \u001b[0maa\u001b[0m \u001b[0;32min\u001b[0m \u001b[0msequence\u001b[0m\u001b[0;34m]\u001b[0m\u001b[0;34m\u001b[0m\u001b[0;34m\u001b[0m\u001b[0m\n\u001b[0m\u001b[1;32m     22\u001b[0m \u001b[0;34m\u001b[0m\u001b[0m\n\u001b[1;32m     23\u001b[0m \u001b[0mdf_TRS_only\u001b[0m\u001b[0;34m[\u001b[0m\u001b[0;34m'Epitope'\u001b[0m\u001b[0;34m]\u001b[0m \u001b[0;34m=\u001b[0m \u001b[0mdf_TRS_only\u001b[0m\u001b[0;34m[\u001b[0m\u001b[0;34m'Epitope'\u001b[0m\u001b[0;34m]\u001b[0m\u001b[0;34m.\u001b[0m\u001b[0mapply\u001b[0m\u001b[0;34m(\u001b[0m\u001b[0;32mlambda\u001b[0m \u001b[0mx\u001b[0m\u001b[0;34m:\u001b[0m \u001b[0msum\u001b[0m\u001b[0;34m(\u001b[0m\u001b[0mEpitope_encoding\u001b[0m\u001b[0;34m(\u001b[0m\u001b[0mx\u001b[0m\u001b[0;34m)\u001b[0m\u001b[0;34m)\u001b[0m\u001b[0;34m)\u001b[0m\u001b[0;34m\u001b[0m\u001b[0;34m\u001b[0m\u001b[0m\n",
      "\u001b[0;31mKeyError\u001b[0m: '2'"
     ]
    }
   ],
   "source": [
    "#Epitope\n",
    "\n",
    "df_TRS_only['Epitope'] = df_TRS_only['Epitope'].astype(str)\n",
    "char_counts_Epitope = {}\n",
    "\n",
    "for elem in df_TRS_only['Epitope']:\n",
    "    for char in elem:\n",
    "        if char not in char_counts_Epitope:\n",
    "            char_counts_Epitope[char] = 0\n",
    "        char_counts_Epitope[char] += 1\n",
    "'''\n",
    "{'F': 23602, 'L': 87808, 'K': 70562, 'E': 5600, 'G': 71366, 'Q': 33606, 'T': 16366, 'M': 6388, 'A': 75466, \n",
    "'I': 15360, 'V': 26050, 'Y': 9282, 'D': 11084, 'H': 1494, 'R': 17074, 'N': 7734, 'S': 15042, 'P': 8846, 'W': 2502, \n",
    "'C': 2830}\n",
    "'''\n",
    "def Epitope_encoding(sequence, aa_dict=None):\n",
    "    if aa_dict is None:\n",
    "        aa_dict = {'F': 1, 'L': 2, 'K': 3, 'E': 4, 'G': 5, 'Q': 6, 'T': 7, \n",
    "                   'M': 8, 'A': 9, 'I': 10, 'V': 11, 'Y': 12, 'D': 13,\n",
    "                   'H': 14, 'R': 15, 'N': 16, 'S': 17, 'P': 18, 'W': 19, 'C': 20}                   \n",
    "    return [aa_dict[aa] for aa in sequence]\n",
    "\n",
    "df_TRS_only['Epitope'] = df_TRS_only['Epitope'].apply(lambda x: sum(Epitope_encoding(x)))\n"
   ]
  },
  {
   "cell_type": "code",
   "execution_count": 175,
   "id": "63be797b",
   "metadata": {},
   "outputs": [],
   "source": [
    "#Epitope gene\n",
    "\n",
    "# Encode the string test data using LabelEncoder\n",
    "le = LabelEncoder()\n",
    "#LabelEncoder是一个预处理工具，用于将分类变量(字符串)编码为数值。\n",
    "# Encode the string data using LabelEncoder\n",
    "df_TRS_only[[\"Epitope gene\"]]= df_TRS_only[[\"Epitope gene\"]].apply(lambda col: le.fit_transform(col))\n"
   ]
  },
  {
   "cell_type": "code",
   "execution_count": 176,
   "id": "68e6674f",
   "metadata": {},
   "outputs": [],
   "source": [
    "#Epitope species\n",
    "\n",
    "# Encode the string test data using LabelEncoder\n",
    "le = LabelEncoder()\n",
    "#LabelEncoder是一个预处理工具，用于将分类变量(字符串)编码为数值。\n",
    "# Encode the string data using LabelEncoder\n",
    "df_TRS_only[[\"Epitope species\"]]= df_TRS_only[[\"Epitope species\"]].apply(lambda col: le.fit_transform(col))"
   ]
  },
  {
   "cell_type": "code",
   "execution_count": 177,
   "id": "751e7098",
   "metadata": {},
   "outputs": [
    {
     "name": "stdout",
     "output_type": "stream",
     "text": [
      "       CDR3    V  J  Species  MHC A  MHC B  MHC class Epitope  Epitope gene  \\\n",
      "0       113   96  9        0     28     13          0      25            36   \n",
      "1       145   73  3        0     28     13          0      25            36   \n",
      "2       149  158  6        0     28     13          0      25            36   \n",
      "3       113   96  9        0     28     13          0      28            36   \n",
      "4       145   73  3        0     28     13          0      28            36   \n",
      "...     ...  ... ..      ...    ...    ...        ...     ...           ...   \n",
      "27815   143   99  9        0     44     13          0     109            98   \n",
      "27816   111   95  7        0     44     13          0     109            98   \n",
      "27817   135   73  5        0     44     13          0     109            98   \n",
      "27818   125   76  9        0     44     13          0     109            98   \n",
      "27819   133  130  5        0     44     13          0     109            98   \n",
      "\n",
      "       Epitope species  \n",
      "0                    9  \n",
      "1                    9  \n",
      "2                    9  \n",
      "3                    9  \n",
      "4                    9  \n",
      "...                ...  \n",
      "27815               26  \n",
      "27816               26  \n",
      "27817               26  \n",
      "27818               26  \n",
      "27819               26  \n",
      "\n",
      "[27820 rows x 10 columns]\n",
      "[0 0 0 ... 0 0 0]\n"
     ]
    },
    {
     "data": {
      "image/png": "[encoded data removed]",
      "text/plain": [
       "<Figure size 432x288 with 1 Axes>"
      ]
     },
     "metadata": {
      "needs_background": "light"
     },
     "output_type": "display_data"
    }
   ],
   "source": [
    "import matplotlib.pyplot as plt\n",
    "\n",
    "\n",
    "Alpha_data = df_TRS_only.loc[df_TRS_only['Gene'] == 0]\n",
    "Alpha_data = Alpha_data.drop(['Gene'], axis=1)\n",
    "print(Alpha_data)\n",
    "\n",
    "\n",
    "\n",
    "\n",
    "combined_Alpha_MHC = np.concatenate([Alpha_data['MHC A'].values.reshape(-1, 1),\n",
    "                          Alpha_data['MHC B'].values.reshape(-1, 1),\n",
    "                          Alpha_data['MHC class'].values.reshape(-1, 1)], axis=1)\n",
    "\n",
    "combined_Alpha_Epitope = np.concatenate([Alpha_data['Epitope'].values.reshape(-1, 1),\n",
    "                          Alpha_data['Epitope gene'].values.reshape(-1, 1),\n",
    "                          Alpha_data['Epitope species'].values.reshape(-1, 1)], axis=1)\n",
    "\n",
    "\n",
    "# Normalize the data using MinMaxScaler alpha\n",
    "scaler = MinMaxScaler()\n",
    "combined_Alpha_MHC_normalized = scaler.fit_transform(combined_Alpha_MHC)\n",
    "\n",
    "\n",
    "# Normalize the data using MinMaxScaler Epitope\n",
    "scaler = MinMaxScaler()\n",
    "combined_Alpha_Epitope_normalized = scaler.fit_transform(combined_Alpha_Epitope)\n",
    "\n",
    "\n",
    "\n",
    "data = Alpha_data.to_numpy()\n",
    "ncols = data.shape[1]\n",
    "X = data[:,0:ncols-7]\n",
    "label = data[:,ncols-7]\n",
    "print(label)\n",
    "\n",
    "\n",
    "                            \n",
    "pca = PCA(n_components=2)\n",
    "pca.fit(X)\n",
    "# Project data onto first two principal components\n",
    "projX = pca.transform(X)\n",
    "plt.figure(4)\n",
    "plt.plot(projX[:,0], projX[:,1], 'k.')\n",
    "plt.title('Projected data')\n",
    "plt.show()\n",
    "\n"
   ]
  },
  {
   "cell_type": "code",
   "execution_count": null,
   "id": "d1b9e64a",
   "metadata": {},
   "outputs": [],
   "source": []
  },
  {
   "cell_type": "code",
   "execution_count": 59,
   "id": "8afc1cc1",
   "metadata": {},
   "outputs": [
    {
     "data": {
      "text/plain": [
       "\"\\nimport pandas as pd\\n\\n# Define a sample datafra3me\\ndf = pd.DataFrame({'HLA': ['HLA-A*01:01', 'HLA-B*01:02', 'HLA-C*01:03']})\\n\\n# Define the encoding function\\ndef one_hot_encoding(hla, hla_dict=None):\\n    if hla_dict is None:\\n        hla_dict = {'HLA-A*01:01': 0, 'HLA-A*01:02': 1, 'HLA-A*01:03': 2,\\n                    'HLA-B*01:01': 3, 'HLA-B*01:02': 4, 'HLA-B*01:03': 5,\\n                    'HLA-C*01:01': 6, 'HLA-C*01:02': 7, 'HLA-C*01:03': 8,\\n                    'HLA-DQA1*01:01': 9, 'HLA-DQA1*01:02': 10, 'HLA-DQA1*01:03': 11}\\n    n_classes = len(hla_dict)\\n    one_hot = np.zeros(n_classes)\\n    one_hot[hla_dict[hla]] = 1\\n    return one_hot\\n\\n# Apply the encoding function to the 'HLA' column of the dataframe\\ndf['encoded_HLA'] = df['HLA'].apply(lambda x: one_hot_encoding(x))\\nprint(df)\\n\\n\""
      ]
     },
     "execution_count": 59,
     "metadata": {},
     "output_type": "execute_result"
    }
   ],
   "source": [
    "\n",
    "\n",
    "#MHC A\n",
    "#查找V所有的种类，根据种类进行以下操作,\n",
    "'''\n",
    "import pandas as pd\n",
    "\n",
    "# Define a sample datafra3me\n",
    "df = pd.DataFrame({'HLA': ['HLA-A*01:01', 'HLA-B*01:02', 'HLA-C*01:03']})\n",
    "\n",
    "# Define the encoding function\n",
    "def one_hot_encoding(hla, hla_dict=None):\n",
    "    if hla_dict is None:\n",
    "        hla_dict = {'HLA-A*01:01': 0, 'HLA-A*01:02': 1, 'HLA-A*01:03': 2,\n",
    "                    'HLA-B*01:01': 3, 'HLA-B*01:02': 4, 'HLA-B*01:03': 5,\n",
    "                    'HLA-C*01:01': 6, 'HLA-C*01:02': 7, 'HLA-C*01:03': 8,\n",
    "                    'HLA-DQA1*01:01': 9, 'HLA-DQA1*01:02': 10, 'HLA-DQA1*01:03': 11}\n",
    "    n_classes = len(hla_dict)\n",
    "    one_hot = np.zeros(n_classes)\n",
    "    one_hot[hla_dict[hla]] = 1\n",
    "    return one_hot\n",
    "\n",
    "# Apply the encoding function to the 'HLA' column of the dataframe\n",
    "df['encoded_HLA'] = df['HLA'].apply(lambda x: one_hot_encoding(x))\n",
    "print(df)\n",
    "\n",
    "'''\n",
    "\n",
    "\n",
    "#MHC B\n",
    "#查找V所有的种类，根据种类进行以下操作,\n",
    "'''\n",
    "import pandas as pd\n",
    "\n",
    "# Define a sample datafra3me\n",
    "df = pd.DataFrame({'HLA': ['HLA-A*01:01', 'HLA-B*01:02', 'HLA-C*01:03']})\n",
    "\n",
    "# Define the encoding function\n",
    "def one_hot_encoding(hla, hla_dict=None):\n",
    "    if hla_dict is None:\n",
    "        hla_dict = {'HLA-A*01:01': 0, 'HLA-A*01:02': 1, 'HLA-A*01:03': 2,\n",
    "                    'HLA-B*01:01': 3, 'HLA-B*01:02': 4, 'HLA-B*01:03': 5,\n",
    "                    'HLA-C*01:01': 6, 'HLA-C*01:02': 7, 'HLA-C*01:03': 8,\n",
    "                    'HLA-DQA1*01:01': 9, 'HLA-DQA1*01:02': 10, 'HLA-DQA1*01:03': 11}\n",
    "    n_classes = len(hla_dict)\n",
    "    one_hot = np.zeros(n_classes)\n",
    "    one_hot[hla_dict[hla]] = 1\n",
    "    return one_hot\n",
    "\n",
    "# Apply the encoding function to the 'HLA' column of the dataframe\n",
    "df['encoded_HLA'] = df['HLA'].apply(lambda x: one_hot_encoding(x))\n",
    "print(df)\n",
    "\n",
    "'''\n",
    "\n",
    "#MHC class\n",
    "#使用LabelEncoder()对MHC直接进行转换\n",
    "'''\n",
    "# Encode the string test data using LabelEncoder\n",
    "le = LabelEncoder()\n",
    "#LabelEncoder是一个预处理工具，用于将分类变量(字符串)编码为数值。\n",
    "# Encode the string data using LabelEncoder\n",
    "df_TRS_only[[\"\",\"\"]]= df_TRS_only[[\"\",\"\"]].apply(lambda col: le.fit_transform(col))\n",
    "'''\n",
    "\n",
    "\n",
    "#Epitope\n",
    "\n",
    "'''\n",
    "import pandas as pd\n",
    "\n",
    "# Define a sample datafra3me\n",
    "df = pd.DataFrame({'HLA': ['HLA-A*01:01', 'HLA-B*01:02', 'HLA-C*01:03']})\n",
    "\n",
    "# Define the encoding function\n",
    "def one_hot_encoding(hla, hla_dict=None):\n",
    "    if hla_dict is None:\n",
    "        hla_dict = {'HLA-A*01:01': 0, 'HLA-A*01:02': 1, 'HLA-A*01:03': 2,\n",
    "                    'HLA-B*01:01': 3, 'HLA-B*01:02': 4, 'HLA-B*01:03': 5,\n",
    "                    'HLA-C*01:01': 6, 'HLA-C*01:02': 7, 'HLA-C*01:03': 8,\n",
    "                    'HLA-DQA1*01:01': 9, 'HLA-DQA1*01:02': 10, 'HLA-DQA1*01:03': 11}\n",
    "    n_classes = len(hla_dict)\n",
    "    one_hot = np.zeros(n_classes)\n",
    "    one_hot[hla_dict[hla]] = 1\n",
    "    return one_hot\n",
    "\n",
    "# Apply the encoding function to the 'HLA' column of the dataframe\n",
    "df['encoded_HLA'] = df['HLA'].apply(lambda x: one_hot_encoding(x))\n",
    "print(df)\n",
    "\n",
    "'''\n",
    "\n",
    "#Epitope gene\n",
    "\n",
    "'''\n",
    "import pandas as pd\n",
    "\n",
    "# Define a sample datafra3me\n",
    "df = pd.DataFrame({'HLA': ['HLA-A*01:01', 'HLA-B*01:02', 'HLA-C*01:03']})\n",
    "\n",
    "# Define the encoding function\n",
    "def one_hot_encoding(hla, hla_dict=None):\n",
    "    if hla_dict is None:\n",
    "        hla_dict = {'HLA-A*01:01': 0, 'HLA-A*01:02': 1, 'HLA-A*01:03': 2,\n",
    "                    'HLA-B*01:01': 3, 'HLA-B*01:02': 4, 'HLA-B*01:03': 5,\n",
    "                    'HLA-C*01:01': 6, 'HLA-C*01:02': 7, 'HLA-C*01:03': 8,\n",
    "                    'HLA-DQA1*01:01': 9, 'HLA-DQA1*01:02': 10, 'HLA-DQA1*01:03': 11}\n",
    "    n_classes = len(hla_dict)\n",
    "    one_hot = np.zeros(n_classes)\n",
    "    one_hot[hla_dict[hla]] = 1\n",
    "    return one_hot\n",
    "\n",
    "# Apply the encoding function to the 'HLA' column of the dataframe\n",
    "df['encoded_HLA'] = df['HLA'].apply(lambda x: one_hot_encoding(x))\n",
    "print(df)\n",
    "\n",
    "'''\n",
    "\n",
    "#Epitope species\n",
    "'''\n",
    "import pandas as pd\n",
    "\n",
    "# Define a sample datafra3me\n",
    "df = pd.DataFrame({'HLA': ['HLA-A*01:01', 'HLA-B*01:02', 'HLA-C*01:03']})\n",
    "\n",
    "# Define the encoding function\n",
    "def one_hot_encoding(hla, hla_dict=None):\n",
    "    if hla_dict is None:\n",
    "        hla_dict = {'HLA-A*01:01': 0, 'HLA-A*01:02': 1, 'HLA-A*01:03': 2,\n",
    "                    'HLA-B*01:01': 3, 'HLA-B*01:02': 4, 'HLA-B*01:03': 5,\n",
    "                    'HLA-C*01:01': 6, 'HLA-C*01:02': 7, 'HLA-C*01:03': 8,\n",
    "                    'HLA-DQA1*01:01': 9, 'HLA-DQA1*01:02': 10, 'HLA-DQA1*01:03': 11}\n",
    "    n_classes = len(hla_dict)\n",
    "    one_hot = np.zeros(n_classes)\n",
    "    one_hot[hla_dict[hla]] = 1\n",
    "    return one_hot\n",
    "\n",
    "# Apply the encoding function to the 'HLA' column of the dataframe\n",
    "df['encoded_HLA'] = df['HLA'].apply(lambda x: one_hot_encoding(x))\n",
    "print(df)\n",
    "\n",
    "'''\n",
    "\n",
    "\n",
    "#Reference 打算删掉！\n",
    "\n",
    "#Method 打算删掉！\n",
    "\n",
    "#Meta 打算删掉！\n",
    "\n",
    "#CDR3fix 打算删除！\n",
    "\n",
    "#Score\n",
    "\n",
    "\n",
    "# Encode the string test data using LabelEncoder\n",
    "#le = LabelEncoder()\n",
    "#LabelEncoder是一个预处理工具，用于将分类变量(字符串)编码为数值。\n",
    "# Encode the string data using LabelEncoder\n",
    "#df_TRS_only[[\"\",\"\"]]= df_TRS_only[[\"\",\"\"]].apply(lambda col: le.fit_transform(col))\n",
    "# Apply PCA to reduce the dimension of the data\n",
    "#pca = PCA(n_components=2)\n",
    "#reduced_data = pca.fit_transform(df.values)\n",
    "\n",
    "# Store the reduced data in a DataFrame\n",
    "#reduced_df = pd.DataFrame(reduced_data, columns=['PC1', 'PC2'])"
   ]
  },
  {
   "cell_type": "code",
   "execution_count": 60,
   "id": "fdb2dd01",
   "metadata": {},
   "outputs": [
    {
     "data": {
      "text/plain": [
       "'\\ndef amino_acid_index_encoding(sequence, aa_dict=None):\\n    if aa_dict is None:\\n        aa_dict = {\\'A\\': 1, \\'C\\': 2, \\'D\\': 3, \\'E\\': 4, \\'F\\': 5, \\'G\\': 6,\\n                   \\'H\\': 7, \\'I\\': 8, \\'K\\': 9, \\'L\\': 10, \\'M\\': 11, \\'N\\': 12,\\n                   \\'P\\': 13, \\'Q\\': 14, \\'R\\': 15, \\'S\\': 16, \\'T\\': 17, \\'V\\': 18,\\n                   \\'W\\': 19, \\'Y\\': 20}\\n    return [aa_dict[aa] for aa in sequence]\\n\\ncdr3 = \"CASSYTYFV\"\\nencoded_cdr3 = amino_acid_index_encoding(cdr3)\\nprint(encoded_cdr3)\\n'"
      ]
     },
     "execution_count": 60,
     "metadata": {},
     "output_type": "execute_result"
    }
   ],
   "source": [
    "'''\n",
    "def amino_acid_index_encoding(sequence, aa_dict=None):\n",
    "    if aa_dict is None:\n",
    "        aa_dict = {'A': 1, 'C': 2, 'D': 3, 'E': 4, 'F': 5, 'G': 6,\n",
    "                   'H': 7, 'I': 8, 'K': 9, 'L': 10, 'M': 11, 'N': 12,\n",
    "                   'P': 13, 'Q': 14, 'R': 15, 'S': 16, 'T': 17, 'V': 18,\n",
    "                   'W': 19, 'Y': 20}\n",
    "    return [aa_dict[aa] for aa in sequence]\n",
    "\n",
    "cdr3 = \"CASSYTYFV\"\n",
    "encoded_cdr3 = amino_acid_index_encoding(cdr3)\n",
    "print(encoded_cdr3)\n",
    "'''"
   ]
  },
  {
   "cell_type": "code",
   "execution_count": null,
   "id": "55562ef6",
   "metadata": {},
   "outputs": [],
   "source": []
  },
  {
   "cell_type": "code",
   "execution_count": null,
   "id": "93ce711c",
   "metadata": {},
   "outputs": [],
   "source": []
  }
 ],
 "metadata": {
  "kernelspec": {
   "display_name": "Python 3 (ipykernel)",
   "language": "python",
   "name": "python3"
  },
  "language_info": {
   "codemirror_mode": {
    "name": "ipython",
    "version": 3
   },
   "file_extension": ".py",
   "mimetype": "text/x-python",
   "name": "python",
   "nbconvert_exporter": "python",
   "pygments_lexer": "ipython3",
   "version": "3.9.7"
  }
 },
 "nbformat": 4,
 "nbformat_minor": 5
}
