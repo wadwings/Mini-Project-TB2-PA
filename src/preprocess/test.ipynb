{
 "cells": [
  {
   "cell_type": "code",
   "execution_count": 19,
   "metadata": {},
   "outputs": [
    {
     "name": "stdout",
     "output_type": "stream",
     "text": [
      "fetching data stage\n",
      "generating label\n",
      "              cdr3_a_aa         v_a_gene   j_a_gene             cdr3_b_aa  \\\n",
      "0         CIVRAPGRADMRF      TRAV26-1*01  TRAJ43*01  CASSYLPGQGDHYSNQPQHF   \n",
      "2        CAVPSGAGSYQLTF        TRAV20*01  TRAJ28*01   CASSFEPGQGFYSNQPQHF   \n",
      "4         CAYRPPGTYKYIF  TRAV38-2/DV8*01  TRAJ40*01        CASSALASLNEQFF   \n",
      "5         CIVRAPGRADMRF      TRAV26-1*01  TRAJ43*01  CASSYLPGQGDHYSNQPQHF   \n",
      "7        CAVPSGAGSYQLTF        TRAV20*01  TRAJ28*01   CASSFEPGQGFYSNQPQHF   \n",
      "...                 ...              ...        ...                   ...   \n",
      "59805  CAFLNAGGTSYGKLTF      TRAV38-1*01  TRAJ52*01       CASSWNGLAGDEQFF   \n",
      "59806      CAVYNQGGKLIF       TRAV8-1*01  TRAJ23*01      CASSALVAFSTDTQYF   \n",
      "59807    CAVRALYNFNKFYF         TRAV3*01  TRAJ21*01       CASSSLAGEVNEQFF   \n",
      "59808     CAVESYNTDKLIF        TRAV41*01  TRAJ34*01   CASSSYTQRGLDYTGELFF   \n",
      "59811  CAMREGQGNAGNMLTF    TRAV14/DV4*01  TRAJ39*01     CASSQDYWGGGADTQYF   \n",
      "\n",
      "         v_b_gene d.beta    j_b_gene      species        mhc.a mhc.b  ...  \\\n",
      "0       TRBV13*01    NaN  TRBJ1-5*01  HomoSapiens     HLA-B*08   B2M  ...   \n",
      "2       TRBV13*01    NaN  TRBJ1-5*01  HomoSapiens     HLA-B*08   B2M  ...   \n",
      "4       TRBV14*01    NaN  TRBJ2-1*01  HomoSapiens     HLA-B*08   B2M  ...   \n",
      "5       TRBV13*01    NaN  TRBJ1-5*01  HomoSapiens     HLA-B*08   B2M  ...   \n",
      "7       TRBV13*01    NaN  TRBJ1-5*01  HomoSapiens     HLA-B*08   B2M  ...   \n",
      "...           ...    ...         ...          ...          ...   ...  ...   \n",
      "59805  TRBV6-2*01    NaN  TRBJ2-1*01  HomoSapiens  HLA-A*24:01   B2M  ...   \n",
      "59806  TRBV6-4*01    NaN  TRBJ2-3*01  HomoSapiens  HLA-A*24:01   B2M  ...   \n",
      "59807  TRBV7-2*01    NaN  TRBJ2-1*01  HomoSapiens  HLA-A*24:01   B2M  ...   \n",
      "59808   TRBV27*01    NaN  TRBJ2-2*01  HomoSapiens  HLA-A*24:01   B2M  ...   \n",
      "59811  TRBV4-1*01    NaN  TRBJ2-3*01  HomoSapiens  HLA-A*24:01   B2M  ...   \n",
      "\n",
      "      meta.clone.id meta.epitope.id  meta.tissue  \\\n",
      "0               NaN             NaN         PBMC   \n",
      "2               NaN             NaN         PBMC   \n",
      "4               NaN             NaN         PBMC   \n",
      "5               NaN             NaN  TCL culture   \n",
      "7               NaN             NaN  TCL culture   \n",
      "...             ...             ...          ...   \n",
      "59805           NaN           S1208         PBMC   \n",
      "59806           NaN           S1208         PBMC   \n",
      "59807           NaN           S1208         PBMC   \n",
      "59808           NaN           S1208         PBMC   \n",
      "59811           NaN           S1208         PBMC   \n",
      "\n",
      "                                          meta.donor.MHC  \\\n",
      "0      HLA-A*02:01,HLA-A*24:02;HLA-B*08:01,HLA-B*5701...   \n",
      "2      HLA-A*02,HLA-A*24:02;HLA-B*08:01,HLA-B*15;HLA-...   \n",
      "4      HLA-A*01:01,HLA-A*02:01;HLA-B*08:01,HLA-B*57:0...   \n",
      "5      HLA-A*02:01,HLA-A*24:02;HLA-B*08:01,HLA-B*5701...   \n",
      "7      HLA-A*02,HLA-A*24:02;HLA-B*08:01,HLA-B*15;HLA-...   \n",
      "...                                                  ...   \n",
      "59805                                                NaN   \n",
      "59806                                                NaN   \n",
      "59807                                                NaN   \n",
      "59808                                                NaN   \n",
      "59811                                                NaN   \n",
      "\n",
      "      meta.donor.MHC.method meta.structure.id  \\\n",
      "0                       NaN               NaN   \n",
      "2                       NaN               NaN   \n",
      "4                       NaN               NaN   \n",
      "5                       NaN               NaN   \n",
      "7                       NaN               NaN   \n",
      "...                     ...               ...   \n",
      "59805                   NaN               NaN   \n",
      "59806                   NaN               NaN   \n",
      "59807                   NaN               NaN   \n",
      "59808                   NaN               NaN   \n",
      "59811                   NaN               NaN   \n",
      "\n",
      "                                           cdr3fix.alpha  \\\n",
      "0      {\"cdr3\": \"CIVRAPGRADMRF\", \"cdr3_old\": \"CIVRAPG...   \n",
      "2      {\"cdr3\": \"CAVPSGAGSYQLTF\", \"cdr3_old\": \"CAVPSG...   \n",
      "4      {\"cdr3\": \"CAYRPPGTYKYIF\", \"cdr3_old\": \"CAYRPPG...   \n",
      "5      {\"cdr3\": \"CIVRAPGRADMRF\", \"cdr3_old\": \"CIVRAPG...   \n",
      "7      {\"cdr3\": \"CAVPSGAGSYQLTF\", \"cdr3_old\": \"CAVPSG...   \n",
      "...                                                  ...   \n",
      "59805  {\"cdr3\": \"CAFLNAGGTSYGKLTF\", \"cdr3_old\": \"CAFL...   \n",
      "59806  {\"cdr3\": \"CAVYNQGGKLIF\", \"cdr3_old\": \"CAVYNQGG...   \n",
      "59807  {\"cdr3\": \"CAVRALYNFNKFYF\", \"cdr3_old\": \"CAVRAL...   \n",
      "59808  {\"cdr3\": \"CAVESYNTDKLIF\", \"cdr3_old\": \"CAVESYN...   \n",
      "59811  {\"cdr3\": \"CAMREGQGNAGNMLTF\", \"cdr3_old\": \"CAMR...   \n",
      "\n",
      "                                            cdr3fix.beta vdjdb.score label  \n",
      "0      {\"cdr3\": \"CASSYLPGQGDHYSNQPQHF\", \"cdr3_old\": \"...           2     0  \n",
      "2      {\"cdr3\": \"CASSFEPGQGFYSNQPQHF\", \"cdr3_old\": \"C...           2     0  \n",
      "4      {\"cdr3\": \"CASSALASLNEQFF\", \"cdr3_old\": \"CASSAL...           2     0  \n",
      "5      {\"cdr3\": \"CASSYLPGQGDHYSNQPQHF\", \"cdr3_old\": \"...           2     0  \n",
      "7      {\"cdr3\": \"CASSFEPGQGFYSNQPQHF\", \"cdr3_old\": \"C...           2     0  \n",
      "...                                                  ...         ...   ...  \n",
      "59805  {\"cdr3\": \"CASSWNGLAGDEQFF\", \"cdr3_old\": \"CASSW...           1     0  \n",
      "59806  {\"cdr3\": \"CASSALVAFSTDTQYF\", \"cdr3_old\": \"CASS...           1     0  \n",
      "59807  {\"cdr3\": \"CASSSLAGEVNEQFF\", \"cdr3_old\": \"CASSS...           1     0  \n",
      "59808  {\"cdr3\": \"CASSSYTQRGLDYTGELFF\", \"cdr3_old\": \"C...           1     0  \n",
      "59811  {\"cdr3\": \"CASSQDYWGGGADTQYF\", \"cdr3_old\": \"CAS...           1     0  \n",
      "\n",
      "[26275 rows x 35 columns]\n"
     ]
    }
   ],
   "source": [
    "from setup import config\n",
    "from feature_filter import load_data\n",
    "from label import generate_label\n",
    "import feature_filter\n",
    "config.setConfig(config.speciesType.human, config.chainType.al)\n",
    "data = load_data()\n",
    "data = generate_label(data, config.labelType.mhc_class)\n",
    "print(data)"
   ]
  },
  {
   "cell_type": "code",
   "execution_count": 20,
   "metadata": {},
   "outputs": [
    {
     "data": {
      "text/plain": [
       "array([0, 1])"
      ]
     },
     "execution_count": 20,
     "metadata": {},
     "output_type": "execute_result"
    }
   ],
   "source": [
    "data['label'].unique()"
   ]
  },
  {
   "cell_type": "code",
   "execution_count": null,
   "metadata": {},
   "outputs": [],
   "source": []
  }
 ],
 "metadata": {
  "kernelspec": {
   "display_name": "Python 3 (ipykernel)",
   "language": "python",
   "name": "python3"
  },
  "language_info": {
   "codemirror_mode": {
    "name": "ipython",
    "version": 3
   },
   "file_extension": ".py",
   "mimetype": "text/x-python",
   "name": "python",
   "nbconvert_exporter": "python",
   "pygments_lexer": "ipython3",
   "version": "3.9.7"
  }
 },
 "nbformat": 4,
 "nbformat_minor": 1
}
