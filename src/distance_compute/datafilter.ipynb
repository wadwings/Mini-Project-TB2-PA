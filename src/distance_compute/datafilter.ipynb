{
 "cells": [
  {
   "cell_type": "code",
   "execution_count": 1,
   "metadata": {
    "collapsed": true
   },
   "outputs": [],
   "source": [
    "from src.preprocess.setup import config"
   ]
  },
  {
   "cell_type": "code",
   "execution_count": null,
   "outputs": [],
   "source": [],
   "metadata": {
    "collapsed": false
   }
  },
  {
   "cell_type": "code",
   "execution_count": 4,
   "outputs": [
    {
     "name": "stdout",
     "output_type": "stream",
     "text": [
      "fetching data stage\n",
      "      cdr3_a_aa v_a_gene j_a_gene        cdr3_b_aa     v_b_gene d.beta  \\\n",
      "53116       NaN      NaN      NaN  CASSLGIRQFTEAFF  TRBV23-1*01    NaN   \n",
      "53117       NaN      NaN      NaN  CASSFLLQVLGKLFF   TRBV6-4*01    NaN   \n",
      "53118       NaN      NaN      NaN  CASSEQGNSGNTVYF  TRBV10-1*01    NaN   \n",
      "53119       NaN      NaN      NaN  CASSETGNSNQPQYF  TRBV10-1*01    NaN   \n",
      "53120       NaN      NaN      NaN    CASRYQGTGEQFF  TRBV23-1*01    NaN   \n",
      "...         ...      ...      ...              ...          ...    ...   \n",
      "55479       NaN      NaN      NaN  CASSLSRAKNTEAFF    TRBV14*01    NaN   \n",
      "55480       NaN      NaN      NaN  CASSQNRNSNQPQYF    TRBV14*01    NaN   \n",
      "55481       NaN      NaN      NaN  CASSSNRNSNQPQYF    TRBV14*01    NaN   \n",
      "55482       NaN      NaN      NaN  CASSPDRISGNTVYF    TRBV14*01    NaN   \n",
      "55483       NaN      NaN      NaN  CASSFNRVSNQPQYF    TRBV14*01    NaN   \n",
      "\n",
      "         j_b_gene        species      mhc.a mhc.b  ... meta.replica.id  \\\n",
      "53116  TRBJ1-1*01  MacacaMulatta  Mamu-A*01   B2M  ...      vaccinated   \n",
      "53117  TRBJ1-4*01  MacacaMulatta  Mamu-A*01   B2M  ...      vaccinated   \n",
      "53118  TRBJ1-3*01  MacacaMulatta  Mamu-A*01   B2M  ...      vaccinated   \n",
      "53119  TRBJ1-5*01  MacacaMulatta  Mamu-A*01   B2M  ...      vaccinated   \n",
      "53120  TRBJ2-1*01  MacacaMulatta  Mamu-A*01   B2M  ...      vaccinated   \n",
      "...           ...            ...        ...   ...  ...             ...   \n",
      "55479  TRBJ1-1*01  MacacaMulatta  Mamu-A*01   B2M  ...            12wk   \n",
      "55480  TRBJ1-5*01  MacacaMulatta  Mamu-A*01   B2M  ...            12wk   \n",
      "55481  TRBJ1-5*01  MacacaMulatta  Mamu-A*01   B2M  ...            12wk   \n",
      "55482  TRBJ1-3*01  MacacaMulatta  Mamu-A*01   B2M  ...            12wk   \n",
      "55483  TRBJ1-5*01  MacacaMulatta  Mamu-A*01   B2M  ...            12wk   \n",
      "\n",
      "      meta.clone.id meta.epitope.id meta.tissue meta.donor.MHC  \\\n",
      "53116           NaN             CM9        PBMC            NaN   \n",
      "53117           NaN             CM9        PBMC            NaN   \n",
      "53118           NaN             CM9        PBMC            NaN   \n",
      "53119           NaN             CM9        PBMC            NaN   \n",
      "53120           NaN             CM9        PBMC            NaN   \n",
      "...             ...             ...         ...            ...   \n",
      "55479           NaN             NaN         NaN            NaN   \n",
      "55480           NaN             NaN         NaN            NaN   \n",
      "55481           NaN             NaN         NaN            NaN   \n",
      "55482           NaN             NaN         NaN            NaN   \n",
      "55483           NaN             NaN         NaN            NaN   \n",
      "\n",
      "      meta.donor.MHC.method meta.structure.id cdr3fix.alpha  \\\n",
      "53116                   NaN               NaN           NaN   \n",
      "53117                   NaN               NaN           NaN   \n",
      "53118                   NaN               NaN           NaN   \n",
      "53119                   NaN               NaN           NaN   \n",
      "53120                   NaN               NaN           NaN   \n",
      "...                     ...               ...           ...   \n",
      "55479                   NaN               NaN           NaN   \n",
      "55480                   NaN               NaN           NaN   \n",
      "55481                   NaN               NaN           NaN   \n",
      "55482                   NaN               NaN           NaN   \n",
      "55483                   NaN               NaN           NaN   \n",
      "\n",
      "                                            cdr3fix.beta vdjdb.score  \n",
      "53116  {\"cdr3\": \"CASSLGIRQFTEAFF\", \"cdr3_old\": \"CASSL...           1  \n",
      "53117  {\"cdr3\": \"CASSFLLQVLGKLFF\", \"cdr3_old\": \"CASSF...           1  \n",
      "53118  {\"cdr3\": \"CASSEQGNSGNTVYF\", \"cdr3_old\": \"CASSE...           1  \n",
      "53119  {\"cdr3\": \"CASSETGNSNQPQYF\", \"cdr3_old\": \"CASSE...           1  \n",
      "53120  {\"cdr3\": \"CASRYQGTGEQFF\", \"cdr3_old\": \"CASRYQG...           1  \n",
      "...                                                  ...         ...  \n",
      "55479  {\"cdr3\": \"CASSLSRAKNTEAFF\", \"cdr3_old\": \"CASSL...           0  \n",
      "55480  {\"cdr3\": \"CASSQNRNSNQPQYF\", \"cdr3_old\": \"CASSQ...           1  \n",
      "55481  {\"cdr3\": \"CASSSNRNSNQPQYF\", \"cdr3_old\": \"CASSS...           0  \n",
      "55482  {\"cdr3\": \"CASSPDRISGNTVYF\", \"cdr3_old\": \"CASSP...           0  \n",
      "55483  {\"cdr3\": \"CASSFNRVSNQPQYF\", \"cdr3_old\": \"CASSF...           0  \n",
      "\n",
      "[2032 rows x 34 columns]\n"
     ]
    }
   ],
   "source": [
    "config.setConfig(config.speciesType.monkey, config.chainType.beta)\n",
    "from src.preprocess.feature_filter import load_data\n",
    "\n",
    "import pandas as pd\n",
    "data = load_data()\n",
    "print(data)\n",
    "\n",
    "\n",
    "\n",
    "#\n",
    "# df = pd.read_table('../../data/vdjdb_full.tsv').rename(\n",
    "#     columns={'cdr3.alpha': 'cdr3_a_aa', \"v.alpha\": \"v_a_gene\", \"j.alpha\": \"j_a_gene\",\n",
    "#              'cdr3.beta': 'cdr3_b_aa', 'v.beta': 'v_b_gene', 'j.beta': 'j_b_gene'})\n",
    "# print(df[\"species\"].unique())\n",
    "# filtered_df = df.loc[lambda df: df[\"species\"] == config.getSpeciesName()].loc[:,\n",
    "#               config.getColumns()]\n",
    "# print(filtered_df['v_a_gene'].unique())\n",
    "#\n",
    "# data = filtered_df.groupby(filtered_df.columns.tolist()).size().reset_index().rename(columns={0: 'count'})\n",
    "# alpha_df.drop_duplicates()\n",
    "# alpha_df.head()\n",
    "# data.shape"
   ],
   "metadata": {
    "collapsed": false
   }
  },
  {
   "cell_type": "code",
   "execution_count": 23,
   "outputs": [],
   "source": [],
   "metadata": {
    "collapsed": false
   }
  },
  {
   "cell_type": "code",
   "execution_count": 24,
   "outputs": [],
   "source": [
    "# newT.head()\n",
    "# test = t.loc[:10, [\"cdr3_a_aa\", \"v_a_gene\",\"j_a_gene\", \"cdr3_b_aa\", \"v_b_gene\", \"j_b_gene\"]]\n",
    "# test ="
   ],
   "metadata": {
    "collapsed": false
   }
  },
  {
   "cell_type": "code",
   "execution_count": 6,
   "outputs": [
    {
     "name": "stdout",
     "output_type": "stream",
     "text": [
      "(200, 25369)\n"
     ]
    }
   ],
   "source": [
    "from tcrdist.repertoire import TCRrep\n",
    "\n",
    "tr = TCRrep(cell_df = data.iloc[:200,:],\n",
    "            organism = 'human',\n",
    "            chains = ['alpha'],\n",
    "            db_file='alphabeta_gammadelta_db.tsv',\n",
    "            compute_distances=False)\n",
    "\n",
    "tr2 = TCRrep(cell_df = data,\n",
    "             organism = 'human',\n",
    "            chains = ['alpha'],\n",
    "            db_file='alphabeta_gammadelta_db.tsv',\n",
    "            compute_distances=False)\n",
    "\n",
    "tr.compute_rect_distances(df = tr.clone_df, df2 = tr2.clone_df)\n",
    "\n",
    "print(tr.rw_alpha.shape)"
   ],
   "metadata": {
    "collapsed": false
   }
  },
  {
   "cell_type": "code",
   "execution_count": 3,
   "outputs": [
    {
     "name": "stdout",
     "output_type": "stream",
     "text": [
      "fetching data stage\n",
      "        cdr3_a_aa       v_a_gene   j_a_gene count\n",
      "0  AQGLLTGGGNKLTF  TRAV29/DV5*01  TRAJ10*01     1\n",
      "122\n"
     ]
    }
   ],
   "source": [
    "from distance_compute import compute_single_distance\n",
    "from setup import config\n",
    "from filter import filtered_data\n",
    "# import pandas as pd\n",
    "# import numpy as np\n",
    "\n",
    "config = config.setConfig(config.speciesType.human, config.chainType.alpha)\n",
    "data = filtered_data()\n",
    "# print(data)\n",
    "print(data.iloc[0,:].to_frame().T)\n",
    "tr = compute_single_distance(df1=data.iloc[0,:], df2=data.iloc[1,:])\n",
    "print(tr)\n",
    "\n"
   ],
   "metadata": {
    "collapsed": false
   }
  }
 ],
 "metadata": {
  "kernelspec": {
   "display_name": "Python 3",
   "language": "python",
   "name": "python3"
  },
  "language_info": {
   "codemirror_mode": {
    "name": "ipython",
    "version": 2
   },
   "file_extension": ".py",
   "mimetype": "text/x-python",
   "name": "python",
   "nbconvert_exporter": "python",
   "pygments_lexer": "ipython2",
   "version": "2.7.6"
  }
 },
 "nbformat": 4,
 "nbformat_minor": 0
}
