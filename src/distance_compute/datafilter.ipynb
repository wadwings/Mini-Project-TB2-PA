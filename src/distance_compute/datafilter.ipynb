{
 "cells": [
  {
   "cell_type": "code",
   "execution_count": 1,
   "metadata": {
    "collapsed": true
   },
   "outputs": [],
   "source": [
    "from setup import config"
   ]
  },
  {
   "cell_type": "code",
   "execution_count": null,
   "outputs": [],
   "source": [],
   "metadata": {
    "collapsed": false
   }
  },
  {
   "cell_type": "code",
   "execution_count": 18,
   "outputs": [
    {
     "name": "stdout",
     "output_type": "stream",
     "text": [
      "['HomoSapiens' 'MusMusculus' 'MacacaMulatta']\n",
      "[nan]\n"
     ]
    },
    {
     "name": "stderr",
     "output_type": "stream",
     "text": [
      "/var/folders/2j/6rbtf2tj7cgb4hlgt60gs8gm0000gn/T/ipykernel_63786/1458252951.py:5: DtypeWarning: Columns (20,29,30) have mixed types. Specify dtype option on import or set low_memory=False.\n",
      "  df = pd.read_table('../../data/vdjdb_full.tsv').rename(\n"
     ]
    }
   ],
   "source": [
    "config.setConfig(config.speciesType.monkey, config.chainType.alpha)\n",
    "from filter import filtered_data\n",
    "import pandas as pd\n",
    "\n",
    "df = pd.read_table('../../data/vdjdb_full.tsv').rename(\n",
    "    columns={'cdr3.alpha': 'cdr3_a_aa', \"v.alpha\": \"v_a_gene\", \"j.alpha\": \"j_a_gene\",\n",
    "             'cdr3.beta': 'cdr3_b_aa', 'v.beta': 'v_b_gene', 'j.beta': 'j_b_gene'})\n",
    "print(df[\"species\"].unique())\n",
    "filtered_df = df.loc[lambda df: df[\"species\"] == config.getSpeciesName()].loc[:,\n",
    "              config.getColumns()]\n",
    "print(filtered_df['v_a_gene'].unique())\n",
    "\n",
    "data = filtered_df.groupby(filtered_df.columns.tolist()).size().reset_index().rename(columns={0: 'count'})\n",
    "# alpha_df.drop_duplicates()\n",
    "# alpha_df.head()\n",
    "# data.shape"
   ],
   "metadata": {
    "collapsed": false
   }
  },
  {
   "cell_type": "code",
   "execution_count": 23,
   "outputs": [],
   "source": [],
   "metadata": {
    "collapsed": false
   }
  },
  {
   "cell_type": "code",
   "execution_count": 24,
   "outputs": [],
   "source": [
    "# newT.head()\n",
    "# test = t.loc[:10, [\"cdr3_a_aa\", \"v_a_gene\",\"j_a_gene\", \"cdr3_b_aa\", \"v_b_gene\", \"j_b_gene\"]]\n",
    "# test ="
   ],
   "metadata": {
    "collapsed": false
   }
  },
  {
   "cell_type": "code",
   "execution_count": 6,
   "outputs": [
    {
     "name": "stdout",
     "output_type": "stream",
     "text": [
      "(200, 25369)\n"
     ]
    }
   ],
   "source": [
    "from tcrdist.repertoire import TCRrep\n",
    "\n",
    "tr = TCRrep(cell_df = data.iloc[:200,:],\n",
    "            organism = 'human',\n",
    "            chains = ['alpha'],\n",
    "            db_file='alphabeta_gammadelta_db.tsv',\n",
    "            compute_distances=False)\n",
    "\n",
    "tr2 = TCRrep(cell_df = data,\n",
    "             organism = 'human',\n",
    "            chains = ['alpha'],\n",
    "            db_file='alphabeta_gammadelta_db.tsv',\n",
    "            compute_distances=False)\n",
    "\n",
    "tr.compute_rect_distances(df = tr.clone_df, df2 = tr2.clone_df)\n",
    "\n",
    "print(tr.rw_alpha.shape)"
   ],
   "metadata": {
    "collapsed": false
   }
  }
 ],
 "metadata": {
  "kernelspec": {
   "display_name": "Python 3",
   "language": "python",
   "name": "python3"
  },
  "language_info": {
   "codemirror_mode": {
    "name": "ipython",
    "version": 2
   },
   "file_extension": ".py",
   "mimetype": "text/x-python",
   "name": "python",
   "nbconvert_exporter": "python",
   "pygments_lexer": "ipython2",
   "version": "2.7.6"
  }
 },
 "nbformat": 4,
 "nbformat_minor": 0
}
