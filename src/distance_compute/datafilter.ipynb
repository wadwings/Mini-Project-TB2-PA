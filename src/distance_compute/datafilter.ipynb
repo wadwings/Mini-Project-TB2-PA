{
 "cells": [
  {
   "cell_type": "code",
   "execution_count": 1,
   "metadata": {
    "collapsed": true
   },
   "outputs": [
    {
     "name": "stderr",
     "output_type": "stream",
     "text": [
      "/var/folders/2j/6rbtf2tj7cgb4hlgt60gs8gm0000gn/T/ipykernel_88751/3082959735.py:4: DtypeWarning: Columns (20,29,30) have mixed types. Specify dtype option on import or set low_memory=False.\n",
      "  df = pd.read_table(\"vdjdb_full.tsv\")\n"
     ]
    },
    {
     "data": {
      "text/plain": "array([nan, 'TRBD1', 'TRBD2', 'TRBD2*01', 'TRBD1*01', 'TRBD1,TRBD2',\n       'TRBD1, TRBD2', 'TRBD2*02', 'TRBD1-1*01', 'TRBD2-1', 'TRBD2-1*02',\n       'TRBD2-1*01', 'TRBD2,TRBD1'], dtype=object)"
     },
     "execution_count": 1,
     "metadata": {},
     "output_type": "execute_result"
    }
   ],
   "source": [
    "from setup import config"
   ]
  },
  {
   "cell_type": "code",
   "execution_count": 4,
   "outputs": [
    {
     "name": "stderr",
     "output_type": "stream",
     "text": [
      "/Users/wings/repos/miniproject/test/filter.py:4: DtypeWarning: Columns (20,29,30) have mixed types. Specify dtype option on import or set low_memory=False.\n",
      "  df = pd.read_table('./vdjdb_full.tsv').rename(\n"
     ]
    },
    {
     "data": {
      "text/plain": "(25369, 4)"
     },
     "execution_count": 4,
     "metadata": {},
     "output_type": "execute_result"
    }
   ],
   "source": [
    "config.setConfig(config.speciesType.human, config.chainType.alpha)\n",
    "from filter import filtered_data\n",
    "\n",
    "data = filtered_data()\n",
    "# alpha_df.drop_duplicates()\n",
    "# alpha_df.head()\n",
    "data.shape"
   ],
   "metadata": {
    "collapsed": false
   }
  },
  {
   "cell_type": "code",
   "execution_count": 23,
   "outputs": [],
   "source": [],
   "metadata": {
    "collapsed": false
   }
  },
  {
   "cell_type": "code",
   "execution_count": 24,
   "outputs": [],
   "source": [
    "# newT.head()\n",
    "# test = t.loc[:10, [\"cdr3_a_aa\", \"v_a_gene\",\"j_a_gene\", \"cdr3_b_aa\", \"v_b_gene\", \"j_b_gene\"]]\n",
    "# test ="
   ],
   "metadata": {
    "collapsed": false
   }
  },
  {
   "cell_type": "code",
   "execution_count": 6,
   "outputs": [
    {
     "name": "stdout",
     "output_type": "stream",
     "text": [
      "(200, 25369)\n"
     ]
    }
   ],
   "source": [
    "from tcrdist.repertoire import TCRrep\n",
    "\n",
    "tr = TCRrep(cell_df = data.iloc[:200,:],\n",
    "            organism = 'human',\n",
    "            chains = ['alpha'],\n",
    "            db_file='alphabeta_gammadelta_db.tsv',\n",
    "            compute_distances=False)\n",
    "\n",
    "tr2 = TCRrep(cell_df = data,\n",
    "             organism = 'human',\n",
    "            chains = ['alpha'],\n",
    "            db_file='alphabeta_gammadelta_db.tsv',\n",
    "            compute_distances=False)\n",
    "\n",
    "tr.compute_rect_distances(df = tr.clone_df, df2 = tr2.clone_df)\n",
    "\n",
    "# TCRrep.show_incomplete(tr)\n",
    "\n",
    "# tr.compute_sparse_rect_distances(radius=50, chunk_size=100)\n",
    "print(tr.rw_alpha.shape)\n",
    "# print(tr.rw_alpha)"
   ],
   "metadata": {
    "collapsed": false
   }
  }
 ],
 "metadata": {
  "kernelspec": {
   "display_name": "Python 3",
   "language": "python",
   "name": "python3"
  },
  "language_info": {
   "codemirror_mode": {
    "name": "ipython",
    "version": 2
   },
   "file_extension": ".py",
   "mimetype": "text/x-python",
   "name": "python",
   "nbconvert_exporter": "python",
   "pygments_lexer": "ipython2",
   "version": "2.7.6"
  }
 },
 "nbformat": 4,
 "nbformat_minor": 0
}
